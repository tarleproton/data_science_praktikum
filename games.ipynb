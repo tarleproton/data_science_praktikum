{
 "cells": [
  {
   "cell_type": "markdown",
   "metadata": {},
   "source": [
    "# Исследование по выявлению закономерностей определяющих успешность игры."
   ]
  },
  {
   "cell_type": "markdown",
   "metadata": {},
   "source": [
    "Открытие файлов данных, импорт библиотек, изучение общей информации"
   ]
  },
  {
   "cell_type": "code",
   "execution_count": 5,
   "metadata": {},
   "outputs": [],
   "source": [
    "import pandas as pd\n",
    "import matplotlib.pyplot as plt\n",
    "import numpy as np\n",
    "import warnings\n",
    "warnings.filterwarnings('ignore')\n",
    "import random\n",
    "from scipy import stats as st\n",
    "import seaborn as sns"
   ]
  },
  {
   "cell_type": "code",
   "execution_count": 6,
   "metadata": {},
   "outputs": [
    {
     "name": "stdout",
     "output_type": "stream",
     "text": [
      "<class 'pandas.core.frame.DataFrame'>\n",
      "RangeIndex: 16715 entries, 0 to 16714\n",
      "Data columns (total 11 columns):\n",
      "Name               16713 non-null object\n",
      "Platform           16715 non-null object\n",
      "Year_of_Release    16446 non-null float64\n",
      "Genre              16713 non-null object\n",
      "NA_sales           16715 non-null float64\n",
      "EU_sales           16715 non-null float64\n",
      "JP_sales           16715 non-null float64\n",
      "Other_sales        16715 non-null float64\n",
      "Critic_Score       8137 non-null float64\n",
      "User_Score         10014 non-null object\n",
      "Rating             9949 non-null object\n",
      "dtypes: float64(6), object(5)\n",
      "memory usage: 1.4+ MB\n"
     ]
    }
   ],
   "source": [
    "game_rating = pd.read_csv('/datasets/games.csv') \n",
    "game_rating.duplicated().sum()#проверил наличие полных дубликатов по строке\n",
    "game_rating.columns#можно привести к одному регистру\n",
    "game_rating.info()"
   ]
  },
  {
   "cell_type": "code",
   "execution_count": 7,
   "metadata": {},
   "outputs": [
    {
     "data": {
      "text/html": [
       "<div>\n",
       "<style scoped>\n",
       "    .dataframe tbody tr th:only-of-type {\n",
       "        vertical-align: middle;\n",
       "    }\n",
       "\n",
       "    .dataframe tbody tr th {\n",
       "        vertical-align: top;\n",
       "    }\n",
       "\n",
       "    .dataframe thead th {\n",
       "        text-align: right;\n",
       "    }\n",
       "</style>\n",
       "<table border=\"1\" class=\"dataframe\">\n",
       "  <thead>\n",
       "    <tr style=\"text-align: right;\">\n",
       "      <th></th>\n",
       "      <th>Year_of_Release</th>\n",
       "      <th>NA_sales</th>\n",
       "      <th>EU_sales</th>\n",
       "      <th>JP_sales</th>\n",
       "      <th>Other_sales</th>\n",
       "      <th>Critic_Score</th>\n",
       "    </tr>\n",
       "  </thead>\n",
       "  <tbody>\n",
       "    <tr>\n",
       "      <td>count</td>\n",
       "      <td>16446.000000</td>\n",
       "      <td>16715.000000</td>\n",
       "      <td>16715.000000</td>\n",
       "      <td>16715.000000</td>\n",
       "      <td>16715.000000</td>\n",
       "      <td>8137.000000</td>\n",
       "    </tr>\n",
       "    <tr>\n",
       "      <td>mean</td>\n",
       "      <td>2006.484616</td>\n",
       "      <td>0.263377</td>\n",
       "      <td>0.145060</td>\n",
       "      <td>0.077617</td>\n",
       "      <td>0.047342</td>\n",
       "      <td>68.967679</td>\n",
       "    </tr>\n",
       "    <tr>\n",
       "      <td>std</td>\n",
       "      <td>5.877050</td>\n",
       "      <td>0.813604</td>\n",
       "      <td>0.503339</td>\n",
       "      <td>0.308853</td>\n",
       "      <td>0.186731</td>\n",
       "      <td>13.938165</td>\n",
       "    </tr>\n",
       "    <tr>\n",
       "      <td>min</td>\n",
       "      <td>1980.000000</td>\n",
       "      <td>0.000000</td>\n",
       "      <td>0.000000</td>\n",
       "      <td>0.000000</td>\n",
       "      <td>0.000000</td>\n",
       "      <td>13.000000</td>\n",
       "    </tr>\n",
       "    <tr>\n",
       "      <td>25%</td>\n",
       "      <td>2003.000000</td>\n",
       "      <td>0.000000</td>\n",
       "      <td>0.000000</td>\n",
       "      <td>0.000000</td>\n",
       "      <td>0.000000</td>\n",
       "      <td>60.000000</td>\n",
       "    </tr>\n",
       "    <tr>\n",
       "      <td>50%</td>\n",
       "      <td>2007.000000</td>\n",
       "      <td>0.080000</td>\n",
       "      <td>0.020000</td>\n",
       "      <td>0.000000</td>\n",
       "      <td>0.010000</td>\n",
       "      <td>71.000000</td>\n",
       "    </tr>\n",
       "    <tr>\n",
       "      <td>75%</td>\n",
       "      <td>2010.000000</td>\n",
       "      <td>0.240000</td>\n",
       "      <td>0.110000</td>\n",
       "      <td>0.040000</td>\n",
       "      <td>0.030000</td>\n",
       "      <td>79.000000</td>\n",
       "    </tr>\n",
       "    <tr>\n",
       "      <td>max</td>\n",
       "      <td>2016.000000</td>\n",
       "      <td>41.360000</td>\n",
       "      <td>28.960000</td>\n",
       "      <td>10.220000</td>\n",
       "      <td>10.570000</td>\n",
       "      <td>98.000000</td>\n",
       "    </tr>\n",
       "  </tbody>\n",
       "</table>\n",
       "</div>"
      ],
      "text/plain": [
       "       Year_of_Release      NA_sales      EU_sales      JP_sales  \\\n",
       "count     16446.000000  16715.000000  16715.000000  16715.000000   \n",
       "mean       2006.484616      0.263377      0.145060      0.077617   \n",
       "std           5.877050      0.813604      0.503339      0.308853   \n",
       "min        1980.000000      0.000000      0.000000      0.000000   \n",
       "25%        2003.000000      0.000000      0.000000      0.000000   \n",
       "50%        2007.000000      0.080000      0.020000      0.000000   \n",
       "75%        2010.000000      0.240000      0.110000      0.040000   \n",
       "max        2016.000000     41.360000     28.960000     10.220000   \n",
       "\n",
       "        Other_sales  Critic_Score  \n",
       "count  16715.000000   8137.000000  \n",
       "mean       0.047342     68.967679  \n",
       "std        0.186731     13.938165  \n",
       "min        0.000000     13.000000  \n",
       "25%        0.000000     60.000000  \n",
       "50%        0.010000     71.000000  \n",
       "75%        0.030000     79.000000  \n",
       "max       10.570000     98.000000  "
      ]
     },
     "execution_count": 7,
     "metadata": {},
     "output_type": "execute_result"
    }
   ],
   "source": [
    "game_rating.describe()"
   ]
  },
  {
   "cell_type": "markdown",
   "metadata": {},
   "source": [
    "Рассмотрим полученную информацию подробнее. Всего в таблице 11 столбцов и 16715 строк. 6 столбцов с вещественным типом данных и 5 обьектным.\n",
    "\n",
    "Подробно разберём, какие в game_rating столбцы, и какую информацию они содержат:\n",
    "\n",
    "Name — название игры Platform — платформа Year_of_Release — год выпуска Genre — жанр игры NA_sales — продажи в Северной Америке (миллионы долларов) EU_sales — продажи в Европе (миллионы долларов) JP_sales — продажи в Японии (миллионы долларов) Other_sales — продажи в других странах (миллионы долларов) Critic_Score — оценка критиков (максимум 100) User_Score — оценка пользователей (максимум 10) Rating — рейтинг от организации ESRB (англ. Entertainment Software Rating Board). Эта ассоциация определяет рейтинг компьютерных игр и присваивает им подходящую возрастную категорию.\n",
    "\n",
    "есть пропуски в колонках Name, Year_of_Release, Critic_Score, User_Score и Rating\n",
    "дату релиза лучше привести к целому числу, необязательно переводить её именно в dt. оценку пользователей лучше перевести в числовой формат. В описании есть упоминание, что данные за 2016 г могут быть неполными. Это нужно учесть, например, при выборе перспективных платформ."
   ]
  },
  {
   "cell_type": "markdown",
   "metadata": {},
   "source": [
    "# Подготовка данных"
   ]
  },
  {
   "cell_type": "markdown",
   "metadata": {},
   "source": [
    "Поиск и обработка пропущенных значений. Нужно сразу определиться, что почти все пропуски теоретически возможно востановить используя информацию о данных играх из интернета. Но я исходил из того , что я это могу сделать только в ручную и автоматизировать эту работу пока не могу. В связи с этим буду использовать, то что есть. Думаю, что почти все пропуски это ошибки выгрузки или банальное отсутствие части информации по игре в источниках от куда она бралась."
   ]
  },
  {
   "cell_type": "markdown",
   "metadata": {},
   "source": [
    "Заменил названия столбцов"
   ]
  },
  {
   "cell_type": "code",
   "execution_count": 8,
   "metadata": {},
   "outputs": [],
   "source": [
    "game_rating.columns = game_rating.columns.str.lower()#привел к нижнему регистру названия столбцов"
   ]
  },
  {
   "cell_type": "code",
   "execution_count": 9,
   "metadata": {},
   "outputs": [],
   "source": [
    "game_rating[game_rating['name'].isnull()]\n",
    "#пропуски в названии и в жанре. Проще удалить, данных для их востановления недостаточно.\n",
    "game_rating.drop([659, 14244], inplace = True)"
   ]
  },
  {
   "cell_type": "markdown",
   "metadata": {},
   "source": [
    "Пропуски в дате релиза"
   ]
  },
  {
   "cell_type": "markdown",
   "metadata": {},
   "source": [
    "\n",
    "часть их точно можно восстановить, ведь в названиях многих игр используется год релиза. Хотя не всегда это так, год релиза может\n",
    "отличаться от года в названии. В таблице есть такие примеры. \n",
    "а также можно исходить из платформ. Игры выходят на разных платформах. У одной и той же игры значения даты релиза на одной платформе есть, а на другой отсутвует. Хотя даты релиза на разных платформах могут различаться, но для примера я заполнил пропущенные значения датами релиза с других платформ."
   ]
  },
  {
   "cell_type": "code",
   "execution_count": 10,
   "metadata": {},
   "outputs": [],
   "source": [
    "game_rating['year_of_release'] = game_rating['year_of_release'].fillna(-1).astype('int')\n",
    "#заполнил пропуски нестандартными значениями"
   ]
  },
  {
   "cell_type": "code",
   "execution_count": 11,
   "metadata": {},
   "outputs": [],
   "source": [
    "fill = game_rating[game_rating['year_of_release'] == -1]['name'].str.extract('(\\d+)').fillna(-1).astype('int')\n",
    "#выбрал даты из названий игр"
   ]
  },
  {
   "cell_type": "code",
   "execution_count": 12,
   "metadata": {},
   "outputs": [],
   "source": [
    "fill = fill[fill[0] > 1970]#иначе выдавал нестандартные значения"
   ]
  },
  {
   "cell_type": "code",
   "execution_count": 13,
   "metadata": {},
   "outputs": [],
   "source": [
    "game_rating = game_rating.join(fill, how='left')#позже заменю пропуски year_of_release значениями из этого столбца"
   ]
  },
  {
   "cell_type": "raw",
   "metadata": {},
   "source": [
    "game_rating.query('year_of_release > 1900').groupby(['platform']).agg({'year_of_release':['min','max']})\n",
    "#таблица говорит нам с какого и по какой год существовала платформа. "
   ]
  },
  {
   "cell_type": "code",
   "execution_count": 14,
   "metadata": {},
   "outputs": [],
   "source": [
    "#заполнение пропусков по данным релиза с других платформ.\n",
    "name_unique  = game_rating[game_rating['year_of_release'] == -1]['name'].unique()\n",
    "#уникальные названия игр у которых есть пропуски в дате релиза\n",
    "\n",
    "for i in name_unique:\n",
    "    #цикл для заполнения пропусков по каждому уникальному значению\n",
    "    name_dubl = game_rating.groupby(game_rating['name'] == i).agg({'year_of_release':'max'}).loc[1,'year_of_release']\n",
    "    game_rating.loc[game_rating['name'] == i, 'year_of_release']\\\n",
    "    = game_rating.loc[game_rating['name'] == i, 'year_of_release'].replace(-1,name_dubl)\n",
    "    #заполнение пропущенных значений в столбце year_of_release максимальным значением c помощью логической индексации"
   ]
  },
  {
   "cell_type": "markdown",
   "metadata": {},
   "source": [
    "Идея в том, что зная время существования платформы, заполнить пропуски в датах релиза. Например, было 3 платформы, существовавших всего год. Соответственно, все свои игры они выпустили в этот год. Но в этих трех платформах пропусков нет. Или вариант с заполнением пропуска последним годом существования платформы."
   ]
  },
  {
   "cell_type": "code",
   "execution_count": 15,
   "metadata": {},
   "outputs": [],
   "source": [
    "#заменил пропуски на даты с помощью функции\n",
    "def func_year(row):\n",
    "    if row['year_of_release'] == -1 and row['platform'] == \"2600\":#ещё минус 16 пропусков\n",
    "        return 1989\n",
    "    if row['year_of_release'] == -1 and row[0] != \"NaN\": #использовал столбец 0 (с датами из названий)\n",
    "        return row[0]\n",
    "    return row['year_of_release']\n",
    "game_rating['year_of_release'] = game_rating.apply(func_year, axis=1)\n",
    "game_rating.drop([0], axis =1, inplace = True)#удалил столбец 0\n"
   ]
  },
  {
   "cell_type": "code",
   "execution_count": 16,
   "metadata": {},
   "outputs": [],
   "source": [
    "game_rating['year_of_release'] = game_rating['year_of_release'].fillna(-1).astype('int')\n",
    "#количество пропусков сократилось с 269 до 123.\n",
    "#оставшиеся заменены на нестандартные значения, в дальнейшем при анализе буду их игнорировать"
   ]
  },
  {
   "cell_type": "code",
   "execution_count": 17,
   "metadata": {},
   "outputs": [],
   "source": [
    "#game_rating[game_rating['year_of_release'] != -1].groupby(['platform'])['year_of_release'].count()\n",
    "#game_rating['year_of_release'].value_counts()"
   ]
  },
  {
   "cell_type": "markdown",
   "metadata": {},
   "source": [
    "Пропусков в продажах нет, но есть нулевые значения, в том числе и по всем регионам сразу. Таких игры две. index 16676 и 16709"
   ]
  },
  {
   "cell_type": "markdown",
   "metadata": {},
   "source": [
    "Пропуски в оценках критиков и пользователей.\n",
    "Хороших вариантов для заполнения пропусков я не нашел. Заменю на нестандартные значения и не буду их учитывать при анализе.\n",
    "Что касается значений tbd - это значит , что для определения оценки пользователей по данной игре не хватило количества отзывов.\n",
    "Значит, эти оценки не стоит учитывать."
   ]
  },
  {
   "cell_type": "code",
   "execution_count": 18,
   "metadata": {},
   "outputs": [],
   "source": [
    "game_rating[['critic_score','user_score']] = game_rating[['critic_score','user_score']].fillna(-1)\n",
    "game_rating['user_score'] = game_rating['user_score'].replace('tbd', -1)#заменил значения tbd на -1 , для удобства.\n",
    "game_rating['user_score'] = game_rating['user_score'].astype('float64')"
   ]
  },
  {
   "cell_type": "markdown",
   "metadata": {},
   "source": [
    "Пропуски в рейтинге ESRB. Начнем с того , что основана организация, выставляющая рейтинги, была в 1994г. Соответственно, рейтингов у игр раньше 1994 нет, и это нормально. Таких игр 426.\n",
    "Рейтинг K-A == E.\n",
    "«RP» («Rating Pending») — «Рейтинг ожидается»: Продукт был отправлен в ESRB и ожидает присвоения рейтинга. Данный логотип используется только на рекламных презентациях и в демо-версиях игр до официальной даты выпуска в продажу. Таких всего 3.\n",
    "\n",
    "Заменил все пропуски на нестандартные значения."
   ]
  },
  {
   "cell_type": "code",
   "execution_count": 19,
   "metadata": {},
   "outputs": [],
   "source": [
    "game_rating['rating'] = game_rating['rating'].fillna(-1)\n",
    "game_rating['rating'] = game_rating['rating'].replace('K-A', 'E')# K-A тоже , что и  E\n",
    "#game_rating.query('year_of_release <1994)[game_rating['rating'].isnull()]"
   ]
  },
  {
   "cell_type": "markdown",
   "metadata": {},
   "source": [
    "Посчитаем суммарные продажи во всех регионах и запишим их в отдельный столбец."
   ]
  },
  {
   "cell_type": "code",
   "execution_count": 20,
   "metadata": {},
   "outputs": [],
   "source": [
    "game_rating['sum_sales'] = game_rating['na_sales'] + game_rating['eu_sales'] +\\\n",
    "                                            game_rating['jp_sales'] + game_rating['other_sales']\n",
    "game_rating['sum_sales'] = (game_rating['sum_sales']*1000) #перевел в тыс.$\n",
    "game_rating['na_sales'] = (game_rating['na_sales']*1000)\n",
    "game_rating['eu_sales'] = (game_rating['eu_sales']*1000)\n",
    "game_rating['jp_sales'] = (game_rating['jp_sales']*1000)\n",
    "game_rating['other_sales'] = (game_rating['other_sales']*1000)\n"
   ]
  },
  {
   "cell_type": "code",
   "execution_count": 21,
   "metadata": {},
   "outputs": [
    {
     "data": {
      "image/png": "[encoded data removed]",
      "text/plain": [
       "<Figure size 432x288 with 1 Axes>"
      ]
     },
     "metadata": {
      "needs_background": "light"
     },
     "output_type": "display_data"
    },
    {
     "name": "stdout",
     "output_type": "stream",
     "text": [
      "count    16713.000000\n",
      "mean       533.314785\n",
      "std       1548.282414\n",
      "min          0.000000\n",
      "25%         60.000000\n",
      "50%        170.000000\n",
      "75%        470.000000\n",
      "max      82540.000000\n",
      "Name: sum_sales, dtype: float64\n"
     ]
    },
    {
     "data": {
      "image/png": "[encoded data removed]",
      "text/plain": [
       "<Figure size 432x288 with 1 Axes>"
      ]
     },
     "metadata": {
      "needs_background": "light"
     },
     "output_type": "display_data"
    }
   ],
   "source": [
    "game_rating['sum_sales'].hist(bins = 30,range = (0,2000))\n",
    "plt.xlabel(\"sum_sales\")\n",
    "plt.show()\n",
    "print(game_rating['sum_sales'].describe())\n",
    "game_rating.boxplot(column = 'sum_sales')\n",
    "plt.ylim(0,1250)\n",
    "plt.show()"
   ]
  },
  {
   "cell_type": "markdown",
   "metadata": {},
   "source": [
    "# Исследовательский анализ данных"
   ]
  },
  {
   "cell_type": "markdown",
   "metadata": {},
   "source": [
    "Посмотрим, сколько игр выпускалось в разные годы. Важны ли данные за все периоды?\n"
   ]
  },
  {
   "cell_type": "code",
   "execution_count": 22,
   "metadata": {},
   "outputs": [
    {
     "data": {
      "text/plain": [
       "Text(0, 0.5, 'count')"
      ]
     },
     "execution_count": 22,
     "metadata": {},
     "output_type": "execute_result"
    },
    {
     "data": {
      "image/png": "[encoded data removed]",
      "text/plain": [
       "<Figure size 792x360 with 1 Axes>"
      ]
     },
     "metadata": {
      "needs_background": "light"
     },
     "output_type": "display_data"
    }
   ],
   "source": [
    "game_rating['index_game'] = range(len(game_rating))\n",
    "game_rating.groupby(['year_of_release'])['sum_sales'].count()\\\n",
    "                                                 .plot.bar(grid=True, figsize=(11,5))\n",
    "plt.ylabel(\"count\")"
   ]
  },
  {
   "cell_type": "markdown",
   "metadata": {},
   "source": [
    "Опираясь только на количество выпускаемых игр по годам, можно сказать, что данные с 1994 и ниже не так важны. По причине совсем небольшого выпуска игр в год. "
   ]
  },
  {
   "cell_type": "markdown",
   "metadata": {},
   "source": [
    "Посмотрим, как менялись продажи по платформам. Виберем платформы с наибольшими суммарными продажами и построим распределение по годам. За какой характерный срок появляются новые и исчезают старые платформы?"
   ]
  },
  {
   "cell_type": "code",
   "execution_count": 65,
   "metadata": {},
   "outputs": [
    {
     "data": {
      "text/plain": [
       "Text(0, 0.5, 'sum_sales')"
      ]
     },
     "execution_count": 65,
     "metadata": {},
     "output_type": "execute_result"
    },
    {
     "data": {
      "image/png": "[encoded data removed]",
      "text/plain": [
       "<Figure size 792x360 with 1 Axes>"
      ]
     },
     "metadata": {
      "needs_background": "light"
     },
     "output_type": "display_data"
    }
   ],
   "source": [
    "top_platform = game_rating.groupby(['platform',])['sum_sales'].sum().sort_values(ascending = False).reset_index().head(6)\n",
    "game_rating.groupby(['platform'])['sum_sales'].sum().sort_values(ascending = False)\\\n",
    "                            .plot.bar(grid=True, figsize=(11,5))\n",
    "\n",
    "plt.title(\"Распределнние суммарных продаж по платформам\", fontsize=22)\n",
    "plt.ylabel(\"sum_sales\")"
   ]
  },
  {
   "cell_type": "code",
   "execution_count": 74,
   "metadata": {},
   "outputs": [
    {
     "data": {
      "image/png": "[encoded data removed]",
      "text/plain": [
       "<Figure size 600x420 with 1 Axes>"
      ]
     },
     "metadata": {
      "needs_background": "light"
     },
     "output_type": "display_data"
    }
   ],
   "source": [
    "import random\n",
    "n = top_platform['platform'].__len__()+1\n",
    "all_colors = list(plt.cm.colors.cnames.keys())\n",
    "random.seed(100)\n",
    "c = random.choices(all_colors, k=n)\n",
    "\n",
    "plt.figure(figsize=(10,7), dpi= 60)\n",
    "plt.bar(top_platform['platform'], top_platform['sum_sales'].round(1), color=c, width=.5)\n",
    "for i, val in enumerate(top_platform['sum_sales'].round(1).values):\n",
    "    plt.text(i, val, float(val), horizontalalignment='center', verticalalignment='bottom', fontdict={'fontweight':500, 'size':12})\n",
    "\n",
    "plt.grid(axis='both', alpha=.3)\n",
    "plt.title(\"Платформы с наибольшими суммарными продажами\", fontsize=22)\n",
    "plt.ylabel('сумма продаж')\n",
    "plt.show()"
   ]
  },
  {
   "cell_type": "code",
   "execution_count": 24,
   "metadata": {},
   "outputs": [
    {
     "data": {
      "text/plain": [
       "Text(0, 0.5, 'sum_sales')"
      ]
     },
     "execution_count": 24,
     "metadata": {},
     "output_type": "execute_result"
    },
    {
     "data": {
      "image/png": "[encoded data removed]",
      "text/plain": [
       "<Figure size 1080x432 with 1 Axes>"
      ]
     },
     "metadata": {
      "needs_background": "light"
     },
     "output_type": "display_data"
    }
   ],
   "source": [
    "\n",
    "game_rating.query('platform == @top_platform and year_of_release > 1970')\\\n",
    "                .groupby(['platform','year_of_release'])['sum_sales']\\\n",
    "                                    .sum().plot.bar(grid=True, figsize=(15,6))\n",
    "\n",
    "plt.title(\"Распределнние суммарных продаж по годам и платформам\", fontsize=22)\n",
    "plt.ylabel(\"sum_sales\")"
   ]
  },
  {
   "cell_type": "markdown",
   "metadata": {},
   "source": [
    "Выводы: Платформы существуют в среднем 11-12 лет. Каждые 5 - 8 лет основные производители платформ Microsoft, Sony, Nintendo выпускают новую версию игровой платформы. Это связано с появление новых технологий и возросшими требованиями игр. Особняком, конечно, стоит PS)."
   ]
  },
  {
   "cell_type": "markdown",
   "metadata": {},
   "source": [
    "Возьмите данные которые помогут построить прогноз на 2017 год."
   ]
  },
  {
   "cell_type": "code",
   "execution_count": 25,
   "metadata": {},
   "outputs": [
    {
     "data": {
      "text/html": [
       "<div>\n",
       "<style scoped>\n",
       "    .dataframe tbody tr th:only-of-type {\n",
       "        vertical-align: middle;\n",
       "    }\n",
       "\n",
       "    .dataframe tbody tr th {\n",
       "        vertical-align: top;\n",
       "    }\n",
       "\n",
       "    .dataframe thead tr th {\n",
       "        text-align: left;\n",
       "    }\n",
       "\n",
       "    .dataframe thead tr:last-of-type th {\n",
       "        text-align: right;\n",
       "    }\n",
       "</style>\n",
       "<table border=\"1\" class=\"dataframe\">\n",
       "  <thead>\n",
       "    <tr>\n",
       "      <th></th>\n",
       "      <th colspan=\"2\" halign=\"left\">year_of_release</th>\n",
       "    </tr>\n",
       "    <tr>\n",
       "      <th></th>\n",
       "      <th>min</th>\n",
       "      <th>max</th>\n",
       "    </tr>\n",
       "    <tr>\n",
       "      <th>platform</th>\n",
       "      <th></th>\n",
       "      <th></th>\n",
       "    </tr>\n",
       "  </thead>\n",
       "  <tbody>\n",
       "    <tr>\n",
       "      <td>3DS</td>\n",
       "      <td>2013</td>\n",
       "      <td>2016</td>\n",
       "    </tr>\n",
       "    <tr>\n",
       "      <td>PC</td>\n",
       "      <td>2013</td>\n",
       "      <td>2016</td>\n",
       "    </tr>\n",
       "    <tr>\n",
       "      <td>PS3</td>\n",
       "      <td>2013</td>\n",
       "      <td>2016</td>\n",
       "    </tr>\n",
       "    <tr>\n",
       "      <td>PS4</td>\n",
       "      <td>2013</td>\n",
       "      <td>2016</td>\n",
       "    </tr>\n",
       "    <tr>\n",
       "      <td>PSP</td>\n",
       "      <td>2013</td>\n",
       "      <td>2015</td>\n",
       "    </tr>\n",
       "    <tr>\n",
       "      <td>PSV</td>\n",
       "      <td>2013</td>\n",
       "      <td>2016</td>\n",
       "    </tr>\n",
       "    <tr>\n",
       "      <td>Wii</td>\n",
       "      <td>2013</td>\n",
       "      <td>2016</td>\n",
       "    </tr>\n",
       "    <tr>\n",
       "      <td>WiiU</td>\n",
       "      <td>2013</td>\n",
       "      <td>2016</td>\n",
       "    </tr>\n",
       "    <tr>\n",
       "      <td>X360</td>\n",
       "      <td>2013</td>\n",
       "      <td>2016</td>\n",
       "    </tr>\n",
       "    <tr>\n",
       "      <td>XOne</td>\n",
       "      <td>2013</td>\n",
       "      <td>2016</td>\n",
       "    </tr>\n",
       "  </tbody>\n",
       "</table>\n",
       "</div>"
      ],
      "text/plain": [
       "         year_of_release      \n",
       "                     min   max\n",
       "platform                      \n",
       "3DS                 2013  2016\n",
       "PC                  2013  2016\n",
       "PS3                 2013  2016\n",
       "PS4                 2013  2016\n",
       "PSP                 2013  2015\n",
       "PSV                 2013  2016\n",
       "Wii                 2013  2016\n",
       "WiiU                2013  2016\n",
       "X360                2013  2016\n",
       "XOne                2013  2016"
      ]
     },
     "execution_count": 25,
     "metadata": {},
     "output_type": "execute_result"
    }
   ],
   "source": [
    "life_platform = game_rating.query('year_of_release >= 2015')['platform'].unique().tolist()\n",
    "game_rating_actual = game_rating.query('platform == @life_platform and year_of_release >= 2013')\n",
    "game_rating_actual.query('platform == @life_platform').groupby(['platform']).agg({'year_of_release':['min','max']})"
   ]
  },
  {
   "cell_type": "markdown",
   "metadata": {},
   "source": [
    "Вывод:\n",
    "Для определения популярных жанров нам бы подошли все года, хотя популярность жанров очень зависит от хитов в этих жанрах, и  за разные года их популярность меняется.\n",
    "Для определения зависимости продаж от рейтинга ESRB, подошли бы все данные от 1994г, но история та же, что и с жанрами.\n",
    "Для ответа на вопрос о растущих, падающих, потенциально прибыльных платформах, конечно, нужны действующие на момент анализа платформы. А поскольку данные на 2016г не полны, следует выбирать живые платформы, основываясь на year_of_release >= 2015.\n",
    "Таковые платформы - 'PS4', 'XOne', '3DS', 'WiiU', 'PS3', 'X360', 'PC', 'Wii', 'PSV', 'PSP'. Касаемо PSP есть вопросы, у неё нет выпущенных игр в 2016г, а в 2015 было всего 3 игры, с минимальной прибылью. \n",
    "Поэтому предлагаю актуальным периодом считать данные с 2013 года, (это дата выпуска первой из живых платформ) и включать в них только живые платформы."
   ]
  },
  {
   "cell_type": "markdown",
   "metadata": {},
   "source": [
    "Определим какие платформы лидируют по продажам, растут или падают? Выбирем несколько потенциально прибыльных платформ."
   ]
  },
  {
   "cell_type": "code",
   "execution_count": 26,
   "metadata": {},
   "outputs": [
    {
     "data": {
      "text/plain": [
       "Text(0, 0.5, 'sum_sales')"
      ]
     },
     "execution_count": 26,
     "metadata": {},
     "output_type": "execute_result"
    },
    {
     "data": {
      "image/png": "[encoded data removed]",
      "text/plain": [
       "<Figure size 1080x432 with 1 Axes>"
      ]
     },
     "metadata": {
      "needs_background": "light"
     },
     "output_type": "display_data"
    }
   ],
   "source": [
    "game_rating_actual.groupby(['platform','year_of_release'])['sum_sales']\\\n",
    "                                    .sum().plot.bar(grid=True, figsize=(15,6))\n",
    "plt.ylabel(\"sum_sales\")"
   ]
  },
  {
   "cell_type": "markdown",
   "metadata": {},
   "source": [
    "Вывод: Потенциально прибыльными платформами являются - почти весь наш список 'PS4', 'XOne', '3DS', 'WiiU', 'PS3', 'X360', 'PC', 'Wii', 'PSV', за исключением, пожалуй, PSP - по причинам указанным мной выше. Во всех платформах кроме 'PS4', 'XOne', продажи падают уже несколько лет. Так же PS3, WII, X360 и снова PSP находятся на \"излете своей жизни\", и у них уже есть замены от производителей. Про PC отдельный разговор - похоже больше пользователей предпочитают покупать игры на консолях(ведь игры, вышедшие на PC, выходят и на консолях). Но есть исключения - онлайн-игры, где пользователь платит не за покупку игры, а донатит в неё."
   ]
  },
  {
   "cell_type": "markdown",
   "metadata": {},
   "source": [
    "Построим график «ящик с усами» по глобальным продажам каждой игры и разбивкой по платформам. Велика ли разница в продажах? А в средних продажах на разных платформах?"
   ]
  },
  {
   "cell_type": "code",
   "execution_count": 27,
   "metadata": {},
   "outputs": [
    {
     "data": {
      "text/html": [
       "<div>\n",
       "<style scoped>\n",
       "    .dataframe tbody tr th:only-of-type {\n",
       "        vertical-align: middle;\n",
       "    }\n",
       "\n",
       "    .dataframe tbody tr th {\n",
       "        vertical-align: top;\n",
       "    }\n",
       "\n",
       "    .dataframe thead th {\n",
       "        text-align: right;\n",
       "    }\n",
       "</style>\n",
       "<table border=\"1\" class=\"dataframe\">\n",
       "  <thead>\n",
       "    <tr style=\"text-align: right;\">\n",
       "      <th></th>\n",
       "      <th>platform</th>\n",
       "      <th>3DS</th>\n",
       "      <th>PC</th>\n",
       "      <th>PS3</th>\n",
       "      <th>PS4</th>\n",
       "      <th>PSP</th>\n",
       "      <th>PSV</th>\n",
       "      <th>Wii</th>\n",
       "      <th>WiiU</th>\n",
       "      <th>X360</th>\n",
       "      <th>XOne</th>\n",
       "    </tr>\n",
       "  </thead>\n",
       "  <tbody>\n",
       "    <tr>\n",
       "      <td rowspan=\"4\" valign=\"top\">sum_sales</td>\n",
       "      <td>sum</td>\n",
       "      <td>143250</td>\n",
       "      <td>40060</td>\n",
       "      <td>181430</td>\n",
       "      <td>314140</td>\n",
       "      <td>3740</td>\n",
       "      <td>32990</td>\n",
       "      <td>13660</td>\n",
       "      <td>64630</td>\n",
       "      <td>136800</td>\n",
       "      <td>159320</td>\n",
       "    </tr>\n",
       "    <tr>\n",
       "      <td>mean</td>\n",
       "      <td>472</td>\n",
       "      <td>208</td>\n",
       "      <td>525</td>\n",
       "      <td>801</td>\n",
       "      <td>55</td>\n",
       "      <td>92</td>\n",
       "      <td>593</td>\n",
       "      <td>562</td>\n",
       "      <td>735</td>\n",
       "      <td>645</td>\n",
       "    </tr>\n",
       "    <tr>\n",
       "      <td>median</td>\n",
       "      <td>90</td>\n",
       "      <td>80</td>\n",
       "      <td>150</td>\n",
       "      <td>200</td>\n",
       "      <td>20</td>\n",
       "      <td>40</td>\n",
       "      <td>180</td>\n",
       "      <td>200</td>\n",
       "      <td>265</td>\n",
       "      <td>220</td>\n",
       "    </tr>\n",
       "    <tr>\n",
       "      <td>max</td>\n",
       "      <td>14600</td>\n",
       "      <td>3050</td>\n",
       "      <td>21050</td>\n",
       "      <td>14629</td>\n",
       "      <td>240</td>\n",
       "      <td>1960</td>\n",
       "      <td>3579</td>\n",
       "      <td>7090</td>\n",
       "      <td>16270</td>\n",
       "      <td>7389</td>\n",
       "    </tr>\n",
       "  </tbody>\n",
       "</table>\n",
       "</div>"
      ],
      "text/plain": [
       "platform             3DS     PC     PS3     PS4   PSP    PSV    Wii   WiiU  \\\n",
       "sum_sales sum     143250  40060  181430  314140  3740  32990  13660  64630   \n",
       "          mean       472    208     525     801    55     92    593    562   \n",
       "          median      90     80     150     200    20     40    180    200   \n",
       "          max      14600   3050   21050   14629   240   1960   3579   7090   \n",
       "\n",
       "platform            X360    XOne  \n",
       "sum_sales sum     136800  159320  \n",
       "          mean       735     645  \n",
       "          median     265     220  \n",
       "          max      16270    7389  "
      ]
     },
     "execution_count": 27,
     "metadata": {},
     "output_type": "execute_result"
    },
    {
     "data": {
      "image/png": "[encoded data removed]",
      "text/plain": [
       "<Figure size 1008x504 with 1 Axes>"
      ]
     },
     "metadata": {
      "needs_background": "light"
     },
     "output_type": "display_data"
    }
   ],
   "source": [
    "sns.catplot(x=\"platform\", y=\"sum_sales\", kind=\"box\", data=game_rating_actual\\\n",
    "            ,aspect=2, height=7)\n",
    "plt.ylim(0, 4000)\n",
    "\n",
    "\n",
    "stat = (game_rating_actual.groupby('platform')\n",
    "                       .agg({'sum_sales': ['sum','mean', 'median', 'max']})\n",
    "         )\n",
    "\n",
    "stat.T.astype('int')\n",
    "\n"
   ]
  },
  {
   "cell_type": "markdown",
   "metadata": {},
   "source": [
    "Вывод: Период я брал с 2013г - сумму продаж правильно было бы определять за ровный отрезок времени. т.е. по дате последней вышедшей платформы, а это 2013г. Велика ли разница в продажах - велика. Прочные лидеры PS4, PS3, XOne, 3DS, X360. Прибыль остальных платформ на порядок ниже.\n",
    "\n",
    "Что касается средних продаж - разница также велика. Это заслуга хитов. Медиана на этом фоне смотрится куда ровнее."
   ]
  },
  {
   "cell_type": "markdown",
   "metadata": {},
   "source": [
    "Посмотрим, как влияют на продажи внутри одной популярной платформы отзывы пользователей и критиков. Построим диаграмму рассеяния и посчитаем корреляцию между отзывами и продажами."
   ]
  },
  {
   "cell_type": "code",
   "execution_count": 28,
   "metadata": {},
   "outputs": [
    {
     "name": "stdout",
     "output_type": "stream",
     "text": [
      "0.3503445460228666 карреляция оценки критиков к продажам\n"
     ]
    },
    {
     "data": {
      "image/png": "[encoded data removed]",
      "text/plain": [
       "<Figure size 432x288 with 1 Axes>"
      ]
     },
     "metadata": {
      "needs_background": "light"
     },
     "output_type": "display_data"
    },
    {
     "name": "stdout",
     "output_type": "stream",
     "text": [
      "-0.011742185147181342 корреляция оценки пользователей к продажам\n"
     ]
    },
    {
     "data": {
      "image/png": "[encoded data removed]",
      "text/plain": [
       "<Figure size 432x288 with 1 Axes>"
      ]
     },
     "metadata": {
      "needs_background": "light"
     },
     "output_type": "display_data"
    }
   ],
   "source": [
    "print(game_rating_actual.query('platform == \"X360\" and critic_score != -1')\\\n",
    "                ['critic_score'].corr(game_rating_actual['sum_sales']), 'карреляция оценки критиков к продажам')\n",
    "game_rating_actual.query('platform == \"X360\" and critic_score != -1')\\\n",
    "                .plot(x='sum_sales', y='critic_score', kind='scatter', alpha=0.3,\\\n",
    "                     title = 'Диаграмма рассеяния для оценки влияния критиков на продажи')\n",
    "plt.show()\n",
    "\n",
    "\n",
    "print(game_rating_actual.query('platform == \"X360\" and user_score != -1')\\\n",
    "                ['user_score'].corr(game_rating_actual['sum_sales']),'корреляция оценки пользователей к продажам')\n",
    "game_rating_actual.query('platform == \"X360\" and user_score != -1')\\\n",
    "                .plot(x='sum_sales', y='user_score', kind='scatter', alpha=0.3, \\\n",
    "                      title = 'Диаграмма рассеяния для оценки влияния пользователей на продажи')\n",
    "plt.show()\n",
    "\n",
    "\n"
   ]
  },
  {
   "cell_type": "markdown",
   "metadata": {},
   "source": [
    "Выводы: Влияние есть , но оно не говорит о наличии высокой связи между отзывами и продажами. Отзывы критиков влияют больше, чем отзывы пользователей. Если убрать хиты и основываться на продажах игр, не превышающих 1800 t$, то влияние критиков и пользователей на продажи возрастает. А если учитывать актуальный период с 2013 г, то взаимосвязь падает, а по отзывам пользователей становится обратной, но не значительно, фактически нулевой."
   ]
  },
  {
   "cell_type": "markdown",
   "metadata": {},
   "source": [
    "Соотнесем выводы с продажами игр на других платформах."
   ]
  },
  {
   "cell_type": "code",
   "execution_count": 29,
   "metadata": {},
   "outputs": [
    {
     "data": {
      "text/html": [
       "<div>\n",
       "<style scoped>\n",
       "    .dataframe tbody tr th:only-of-type {\n",
       "        vertical-align: middle;\n",
       "    }\n",
       "\n",
       "    .dataframe tbody tr th {\n",
       "        vertical-align: top;\n",
       "    }\n",
       "\n",
       "    .dataframe thead th {\n",
       "        text-align: right;\n",
       "    }\n",
       "</style>\n",
       "<table border=\"1\" class=\"dataframe\">\n",
       "  <thead>\n",
       "    <tr style=\"text-align: right;\">\n",
       "      <th></th>\n",
       "      <th>critic_score</th>\n",
       "      <th>sum_sales</th>\n",
       "      <th>user_score</th>\n",
       "      <th>year_of_release</th>\n",
       "    </tr>\n",
       "  </thead>\n",
       "  <tbody>\n",
       "    <tr>\n",
       "      <td>critic_score</td>\n",
       "      <td>1.000000</td>\n",
       "      <td>0.311230</td>\n",
       "      <td>0.502702</td>\n",
       "      <td>0.062660</td>\n",
       "    </tr>\n",
       "    <tr>\n",
       "      <td>sum_sales</td>\n",
       "      <td>0.311230</td>\n",
       "      <td>1.000000</td>\n",
       "      <td>-0.003964</td>\n",
       "      <td>-0.134477</td>\n",
       "    </tr>\n",
       "    <tr>\n",
       "      <td>user_score</td>\n",
       "      <td>0.502702</td>\n",
       "      <td>-0.003964</td>\n",
       "      <td>1.000000</td>\n",
       "      <td>0.050183</td>\n",
       "    </tr>\n",
       "    <tr>\n",
       "      <td>year_of_release</td>\n",
       "      <td>0.062660</td>\n",
       "      <td>-0.134477</td>\n",
       "      <td>0.050183</td>\n",
       "      <td>1.000000</td>\n",
       "    </tr>\n",
       "  </tbody>\n",
       "</table>\n",
       "</div>"
      ],
      "text/plain": [
       "                 critic_score  sum_sales  user_score  year_of_release\n",
       "critic_score         1.000000   0.311230    0.502702         0.062660\n",
       "sum_sales            0.311230   1.000000   -0.003964        -0.134477\n",
       "user_score           0.502702  -0.003964    1.000000         0.050183\n",
       "year_of_release      0.062660  -0.134477    0.050183         1.000000"
      ]
     },
     "execution_count": 29,
     "metadata": {},
     "output_type": "execute_result"
    }
   ],
   "source": [
    "#создадим матрицу корреляции по всем параметрам одновременно.\n",
    "game_rating_actual.query('critic_score >0 and user_score >0 and year_of_release >0')\\\n",
    "                    .pivot_table(index = 'index_game', values =['sum_sales','user_score', 'critic_score',\\\n",
    "                                                                           'year_of_release']).corr()"
   ]
  },
  {
   "cell_type": "markdown",
   "metadata": {},
   "source": [
    "Корреляция уменьшилась.  Взаимосвязь между продажами и отзывами критиков  мала. С отзывами пользователей отсутствует."
   ]
  },
  {
   "cell_type": "markdown",
   "metadata": {},
   "source": [
    "Посмотрим на общее распределение игр по жанрам. Что можно сказать о самых прибыльных жанрах? Выделяются ли жанры с высокими и низкими продажами?"
   ]
  },
  {
   "cell_type": "code",
   "execution_count": 48,
   "metadata": {},
   "outputs": [],
   "source": [
    "#game_rating_actual['genre'].value_counts()\n",
    "sum_genre = game_rating_actual.groupby(['genre'])['sum_sales'].sum().sort_values(ascending=False)\n",
    "\n",
    "#game_rating.groupby(['genre'])['sum_sales'].sum().sort_values(ascending=False)#с учетом всех данных\n",
    "#game_rating['genre'].value_counts()"
   ]
  },
  {
   "cell_type": "code",
   "execution_count": 49,
   "metadata": {},
   "outputs": [],
   "source": [
    "sum_genre = pd.DataFrame({'genre':sum_genre.index, 'sum':sum_genre.values})"
   ]
  },
  {
   "cell_type": "code",
   "execution_count": 50,
   "metadata": {},
   "outputs": [
    {
     "data": {
      "text/plain": [
       "(-1.1118910473006058,\n",
       " 1.100566240347648,\n",
       " -1.1092555360435814,\n",
       " 1.1126888047037267)"
      ]
     },
     "execution_count": 50,
     "metadata": {},
     "output_type": "execute_result"
    },
    {
     "data": {
      "image/png": "[encoded data removed]",
      "text/plain": [
       "<Figure size 400x400 with 1 Axes>"
      ]
     },
     "metadata": {},
     "output_type": "display_data"
    }
   ],
   "source": [
    "vals = sum_genre['sum']\n",
    "labels = sum_genre['genre']\n",
    "fig, ax = plt.subplots(figsize=(5, 5), dpi= 80)\n",
    "ax.pie(vals, labels=labels,autopct='%1.1f%%')\n",
    "ax.axis(\"equal\")"
   ]
  },
  {
   "cell_type": "markdown",
   "metadata": {},
   "source": [
    "Вывод: Действующий период - больше всего игр выпущено в жанре Action, кратно меньше в Role-Playing, Adventure, Sports и Shooter. Весь период - Action, Sports, Misc(это не определенный жанр - разное), Role-Playing , Shooter и Adventure.\n",
    "\n",
    "Если рассматривать только актуальный период и действующие платформы - самыми прибыльными жанрами будут Action, Shooter, Sports, Role-Playing. За весь период исследования жанр Shooter переходит на третье место, а Sports на второе."
   ]
  },
  {
   "cell_type": "markdown",
   "metadata": {},
   "source": [
    "# Составьте портрет пользователя каждого региона"
   ]
  },
  {
   "cell_type": "markdown",
   "metadata": {},
   "source": [
    "Определите для пользователя каждого региона (NA, EU, JP):"
   ]
  },
  {
   "cell_type": "markdown",
   "metadata": {},
   "source": [
    "Самые популярные платформы (топ-5). Опишите различия в долях продаж."
   ]
  },
  {
   "cell_type": "code",
   "execution_count": 26,
   "metadata": {},
   "outputs": [
    {
     "name": "stdout",
     "output_type": "stream",
     "text": [
      "  platform  na_sales\n",
      "3      PS4  108740.0\n",
      "9     XOne   93120.0\n",
      "8     X360   81660.0\n",
      "2      PS3   63500.0\n",
      "0      3DS   38200.0\n",
      "  platform  eu_sales\n",
      "3      PS4  141090.0\n",
      "2      PS3   67810.0\n",
      "9     XOne   51590.0\n",
      "8     X360   42520.0\n",
      "0      3DS   30960.0\n"
     ]
    },
    {
     "data": {
      "text/html": [
       "<div>\n",
       "<style scoped>\n",
       "    .dataframe tbody tr th:only-of-type {\n",
       "        vertical-align: middle;\n",
       "    }\n",
       "\n",
       "    .dataframe tbody tr th {\n",
       "        vertical-align: top;\n",
       "    }\n",
       "\n",
       "    .dataframe thead th {\n",
       "        text-align: right;\n",
       "    }\n",
       "</style>\n",
       "<table border=\"1\" class=\"dataframe\">\n",
       "  <thead>\n",
       "    <tr style=\"text-align: right;\">\n",
       "      <th></th>\n",
       "      <th>platform</th>\n",
       "      <th>jp_sales</th>\n",
       "    </tr>\n",
       "  </thead>\n",
       "  <tbody>\n",
       "    <tr>\n",
       "      <td>0</td>\n",
       "      <td>3DS</td>\n",
       "      <td>67810.0</td>\n",
       "    </tr>\n",
       "    <tr>\n",
       "      <td>2</td>\n",
       "      <td>PS3</td>\n",
       "      <td>23350.0</td>\n",
       "    </tr>\n",
       "    <tr>\n",
       "      <td>5</td>\n",
       "      <td>PSV</td>\n",
       "      <td>18590.0</td>\n",
       "    </tr>\n",
       "    <tr>\n",
       "      <td>3</td>\n",
       "      <td>PS4</td>\n",
       "      <td>15960.0</td>\n",
       "    </tr>\n",
       "    <tr>\n",
       "      <td>7</td>\n",
       "      <td>WiiU</td>\n",
       "      <td>10880.0</td>\n",
       "    </tr>\n",
       "  </tbody>\n",
       "</table>\n",
       "</div>"
      ],
      "text/plain": [
       "  platform  jp_sales\n",
       "0      3DS   67810.0\n",
       "2      PS3   23350.0\n",
       "5      PSV   18590.0\n",
       "3      PS4   15960.0\n",
       "7     WiiU   10880.0"
      ]
     },
     "execution_count": 26,
     "metadata": {},
     "output_type": "execute_result"
    }
   ],
   "source": [
    "#данные в t $\n",
    "#функция для вывода топ 5 платформ или жанров для региона, аргумент регион и платформа/жанр\n",
    "def sort_top_5 (region,index):\n",
    "      \n",
    "    return game_rating_actual.pivot_table(index=[index], values = (region), aggfunc = sum).reset_index()\\\n",
    "                            .sort_values(ascending = False, by = region).head(5)\n",
    "\n",
    "print(sort_top_5('na_sales','platform'))\n",
    "print(sort_top_5('eu_sales','platform'))\n",
    "sort_top_5('jp_sales','platform')\n"
   ]
  },
  {
   "cell_type": "code",
   "execution_count": 27,
   "metadata": {},
   "outputs": [
    {
     "data": {
      "text/plain": [
       "['PS4', 'XOne', '3DS', 'WiiU', 'PS3', 'X360', 'PC', 'Wii', 'PSV', 'PSP']"
      ]
     },
     "execution_count": 27,
     "metadata": {},
     "output_type": "execute_result"
    }
   ],
   "source": [
    "life_platform"
   ]
  },
  {
   "cell_type": "markdown",
   "metadata": {},
   "source": [
    "Для понимания различия в продажах по регионам, нужно понять, где какие консоли появились.\n",
    "Рассмотрим только действующие на данный момент:\n",
    "\n",
    "Япония:\n",
    "Sony - PS4,PS3, PSV,PSP\n",
    "Nintendo - Wii,WiiU,3DS\n",
    "\n",
    "США:\n",
    "Microsoft - X360, XOne, \n",
    "\n",
    "Отдельно:\n",
    "PC  - производство комплектующих разбросано по всему миру, как и выпуск игр на PC."
   ]
  },
  {
   "cell_type": "markdown",
   "metadata": {},
   "source": [
    "Япония:\n",
    "Почему 3DS.  Крутая фишка - 3d без очков.  упор был сделан не на графику, а на интересную фишку, узнав о которой, любой игрок захочет как минимум опробовать консоль в деле. Таких игроков оказалось много: почти миллион, только в первые два дня продаж по миру. Консоль и выпускаемые на неё игры стали хитами в Японии и в других регионах. Почему она не занимает первое мусто в других регионах, лучше почтитать тут - https://stopgame.ru/blogs/topic/64145. Если вкратце, то замкнутость на японской культуре и создала проблемы с выходом многих проектов на мировой рынок. Для японцев разборки негров из гетто так же малоинтересны, как американцам и европейцам разборки якудз с обильным пением в караоке.\n",
    "Все остальные платформы из списка, тоже родом из Японии, причины все теже."
   ]
  },
  {
   "cell_type": "markdown",
   "metadata": {},
   "source": [
    "США и Европа:\n",
    "\n",
    "Рейтинги различаются по обьему продаж каждой платформы, но не по наличию платформ в топ 5.\n"
   ]
  },
  {
   "cell_type": "markdown",
   "metadata": {},
   "source": [
    "Самые популярные жанры (топ-5). Поясните разницу."
   ]
  },
  {
   "cell_type": "code",
   "execution_count": 28,
   "metadata": {},
   "outputs": [
    {
     "name": "stdout",
     "output_type": "stream",
     "text": [
      "           genre  na_sales\n",
      "0         Action  125910.0\n",
      "8        Shooter  109740.0\n",
      "10        Sports   65270.0\n",
      "7   Role-Playing   46400.0\n",
      "3           Misc   27460.0\n",
      "           genre  eu_sales\n",
      "0         Action  118370.0\n",
      "8        Shooter   87860.0\n",
      "10        Sports   60490.0\n",
      "7   Role-Playing   36970.0\n",
      "6         Racing   20190.0\n"
     ]
    },
    {
     "data": {
      "text/html": [
       "<div>\n",
       "<style scoped>\n",
       "    .dataframe tbody tr th:only-of-type {\n",
       "        vertical-align: middle;\n",
       "    }\n",
       "\n",
       "    .dataframe tbody tr th {\n",
       "        vertical-align: top;\n",
       "    }\n",
       "\n",
       "    .dataframe thead th {\n",
       "        text-align: right;\n",
       "    }\n",
       "</style>\n",
       "<table border=\"1\" class=\"dataframe\">\n",
       "  <thead>\n",
       "    <tr style=\"text-align: right;\">\n",
       "      <th></th>\n",
       "      <th>genre</th>\n",
       "      <th>jp_sales</th>\n",
       "    </tr>\n",
       "  </thead>\n",
       "  <tbody>\n",
       "    <tr>\n",
       "      <td>7</td>\n",
       "      <td>Role-Playing</td>\n",
       "      <td>51040.0</td>\n",
       "    </tr>\n",
       "    <tr>\n",
       "      <td>0</td>\n",
       "      <td>Action</td>\n",
       "      <td>40490.0</td>\n",
       "    </tr>\n",
       "    <tr>\n",
       "      <td>3</td>\n",
       "      <td>Misc</td>\n",
       "      <td>9440.0</td>\n",
       "    </tr>\n",
       "    <tr>\n",
       "      <td>2</td>\n",
       "      <td>Fighting</td>\n",
       "      <td>7650.0</td>\n",
       "    </tr>\n",
       "    <tr>\n",
       "      <td>8</td>\n",
       "      <td>Shooter</td>\n",
       "      <td>6610.0</td>\n",
       "    </tr>\n",
       "  </tbody>\n",
       "</table>\n",
       "</div>"
      ],
      "text/plain": [
       "          genre  jp_sales\n",
       "7  Role-Playing   51040.0\n",
       "0        Action   40490.0\n",
       "3          Misc    9440.0\n",
       "2      Fighting    7650.0\n",
       "8       Shooter    6610.0"
      ]
     },
     "execution_count": 28,
     "metadata": {},
     "output_type": "execute_result"
    }
   ],
   "source": [
    "#данные в t $\n",
    "print(sort_top_5('na_sales','genre'))\n",
    "print(sort_top_5('eu_sales','genre'))\n",
    "sort_top_5('jp_sales','genre')"
   ]
  },
  {
   "cell_type": "markdown",
   "metadata": {},
   "source": [
    "Американский и Европейский геймер почти не различается в своих предпочтениях. Что не скажешь о Японском. Как писалось выше, в Японии своя культура игр.Более подробно о ней можно почитать в данной статье - https://stopgame.ru/blogs/topic/64145 И это важно ведь наш магазин продает игры и в Японию."
   ]
  },
  {
   "cell_type": "markdown",
   "metadata": {},
   "source": [
    "Влияет ли рейтинг ESRB на продажи в отдельном регионе"
   ]
  },
  {
   "cell_type": "code",
   "execution_count": 29,
   "metadata": {},
   "outputs": [
    {
     "data": {
      "text/html": [
       "<div>\n",
       "<style scoped>\n",
       "    .dataframe tbody tr th:only-of-type {\n",
       "        vertical-align: middle;\n",
       "    }\n",
       "\n",
       "    .dataframe tbody tr th {\n",
       "        vertical-align: top;\n",
       "    }\n",
       "\n",
       "    .dataframe thead th {\n",
       "        text-align: right;\n",
       "    }\n",
       "</style>\n",
       "<table border=\"1\" class=\"dataframe\">\n",
       "  <thead>\n",
       "    <tr style=\"text-align: right;\">\n",
       "      <th></th>\n",
       "      <th>rating</th>\n",
       "      <th>E</th>\n",
       "      <th>E10+</th>\n",
       "      <th>M</th>\n",
       "      <th>T</th>\n",
       "      <th>sum_sal</th>\n",
       "    </tr>\n",
       "  </thead>\n",
       "  <tbody>\n",
       "    <tr>\n",
       "      <td>na_sales</td>\n",
       "      <td>sum</td>\n",
       "      <td>22.681301</td>\n",
       "      <td>15.521204</td>\n",
       "      <td>47.491668</td>\n",
       "      <td>14.305827</td>\n",
       "      <td>348040</td>\n",
       "    </tr>\n",
       "    <tr>\n",
       "      <td>eu_sales</td>\n",
       "      <td>sum</td>\n",
       "      <td>26.486832</td>\n",
       "      <td>13.577015</td>\n",
       "      <td>46.544294</td>\n",
       "      <td>13.391860</td>\n",
       "      <td>313250</td>\n",
       "    </tr>\n",
       "    <tr>\n",
       "      <td>jp_sales</td>\n",
       "      <td>sum</td>\n",
       "      <td>27.166697</td>\n",
       "      <td>10.568814</td>\n",
       "      <td>25.318500</td>\n",
       "      <td>36.945990</td>\n",
       "      <td>55730</td>\n",
       "    </tr>\n",
       "  </tbody>\n",
       "</table>\n",
       "</div>"
      ],
      "text/plain": [
       "rating                E       E10+          M          T  sum_sal\n",
       "na_sales sum  22.681301  15.521204  47.491668  14.305827   348040\n",
       "eu_sales sum  26.486832  13.577015  46.544294  13.391860   313250\n",
       "jp_sales sum  27.166697  10.568814  25.318500  36.945990    55730"
      ]
     },
     "execution_count": 29,
     "metadata": {},
     "output_type": "execute_result"
    }
   ],
   "source": [
    "#данные в t $\n",
    "\n",
    "ESBR = (game_rating_actual[game_rating_actual.rating != -1].groupby('rating')\n",
    "                       .agg({'na_sales': ['sum'],\n",
    "                            'eu_sales': ['sum'],\n",
    "                            'jp_sales': ['sum']})\n",
    "         )\n",
    "\n",
    "ESBR = ESBR.T.astype('int')\n",
    "ESBR['sum_sal'] = ESBR['E']+ESBR['E10+']+ESBR['M']+ESBR['T']\n",
    "\n",
    "ESBR['E'] = (ESBR['E']/ESBR['sum_sal'])*100\n",
    "ESBR['E10+'] = (ESBR['E10+']/ESBR['sum_sal'])*100\n",
    "ESBR['M'] = (ESBR['M']/ESBR['sum_sal'])*100\n",
    "ESBR['T'] = (ESBR['T']/ESBR['sum_sal'])*100\n",
    "\n",
    "ESBR\n",
    "#в таблице указано отношение продаж по региону к рейтингам."
   ]
  },
  {
   "cell_type": "markdown",
   "metadata": {},
   "source": [
    "В Европе и Америке рейтинг ESBR влияет почти одинаково. Что не скажешь о Японии. В Японии производители предпочитают выпускать игры, которым присвоят Т(для подростков), в то время как в Европе и Америке превалирует M('Для взрослых'). Влияние рейтинга я понимаю так - если я выпущу игру, которой ESBR присвоит рейтиг M, то я отказываюсь от аудитории младше 17 лет и теряю часть выручки"
   ]
  },
  {
   "cell_type": "markdown",
   "metadata": {},
   "source": [
    "# Проверьте гипотезы"
   ]
  },
  {
   "cell_type": "markdown",
   "metadata": {},
   "source": [
    "Средние пользовательские рейтинги платформ Xbox One и PC одинаковые"
   ]
  },
  {
   "cell_type": "code",
   "execution_count": 30,
   "metadata": {},
   "outputs": [
    {
     "name": "stdout",
     "output_type": "stream",
     "text": [
      "p-значение: 0.15503167687396294\n",
      "Не получилось отвергнуть нулевую гипотезу\n"
     ]
    }
   ],
   "source": [
    "#нулевая гипотеза -   Средние пользовательские рейтинги платформ Xbox One и PC одинаковые;\n",
    "\n",
    "XOne = game_rating_actual[game_rating_actual.user_score != -1].query('platform == \"XOne\"')['user_score']\n",
    "PC = game_rating_actual[game_rating_actual.user_score != -1].query('platform == \"PC\"')['user_score']\n",
    "alpha = 0.05\n",
    "game_rating_actual[game_rating_actual.user_score != -1].groupby('platform').agg({'user_score': np.var})\n",
    "#дисперсия PC 2.322\n",
    "#Дисперсия XOne 1.907\n",
    "#Дисперсия различается не так сильно , использовать equal_var не буду.\n",
    "\n",
    "alpha = 0.05\n",
    "\n",
    "results = st.ttest_ind(XOne, PC)#, equal_var=False)\n",
    "\n",
    "print('p-значение:', results.pvalue)\n",
    "\n",
    "if (results.pvalue < alpha):\n",
    "    print(\"Отвергаем нулевую гипотезу\")\n",
    "else:\n",
    "    print(\"Не получилось отвергнуть нулевую гипотезу\")"
   ]
  },
  {
   "cell_type": "markdown",
   "metadata": {},
   "source": [
    "Гипотеза - средние пользовательские рейтинги платформ Xbox One и PC одинаковые. Для проверки нашей гипотезы нужно было сформировать нулевую гипотезу. Поскольку в нулевой гипотезе всегда присутствует знак равенства, мы смело можем брать нашу гипотезу за нулевую. При проверке гипотезы пользовался методом, предназначенным для проверки равенства средних двух совокупностей (ind). Поскольку мне нужно было сопоставить их средние. По итогам использования метода могу сказать, что получить такие данные в рамках нулевой гипотезы маловероятно. Данные подтверждают вероятность того, средние пользовательские рейтинги платформ Xbox One и PC различается."
   ]
  },
  {
   "cell_type": "markdown",
   "metadata": {},
   "source": [
    "Средние пользовательские рейтинги жанров Action  и Sports разные."
   ]
  },
  {
   "cell_type": "code",
   "execution_count": 31,
   "metadata": {},
   "outputs": [
    {
     "name": "stdout",
     "output_type": "stream",
     "text": [
      "p-значение: 1.0898071807865848e-20\n",
      "Отвергаем нулевую гипотезу\n"
     ]
    }
   ],
   "source": [
    "#нулевая гипотеза -   Средние пользовательские рейтинги жанров Action  и Sports равны.\n",
    "\n",
    "action = game_rating_actual[game_rating_actual.user_score != -1].query('genre == \"Action\"')['user_score']\n",
    "sports = game_rating_actual[game_rating_actual.user_score != -1].query('genre == \"Sports\"')['user_score']\n",
    "alpha = 0.05\n",
    "game_rating_actual[game_rating_actual.user_score != -1].groupby('genre').agg({'user_score': np.var})\n",
    "#дисперсия Action 2.027\n",
    "#Дисперсия Sports 2.620\n",
    "#Дисперсия различается ,возможно, стоит  использовать equal_var.\n",
    "\n",
    "alpha = 0.05\n",
    "\n",
    "results = st.ttest_ind(action, sports, equal_var=False)#применение equal_var почти не поменяло значения p-value, соответственно \n",
    "#и итоговые выводы\n",
    "\n",
    "print('p-значение:', results.pvalue)\n",
    "\n",
    "if (results.pvalue < alpha):\n",
    "    print(\"Отвергаем нулевую гипотезу\")\n",
    "else:\n",
    "    print(\"Не получилось отвергнуть нулевую гипотезу\")"
   ]
  },
  {
   "cell_type": "markdown",
   "metadata": {},
   "source": [
    "Гипотеза - средние пользовательские рейтинги жанров Action и Sports разные. Формируем нулевую гипотезу - средние пользовательские рейтинги жанров Action и Sports равны. Использовал тот же метод, что и при проверке первой гипотезы. По итогам использования метода могу сказать, что данные НЕ протеворечат НУЛЕВОЙ гипотезе. Соответственно, можно предположить, что средние пользовательские рейтинги жанра Action возможно НЕ отличается от пользовательские рейтинги жанра Sports."
   ]
  },
  {
   "cell_type": "markdown",
   "metadata": {},
   "source": [
    "Дополнительные расчеты"
   ]
  },
  {
   "cell_type": "markdown",
   "metadata": {},
   "source": [
    "Строил таблицу с дублированными играми на разных платформах. Чтобы провести сравнение, как одна и та же игра продается на разных платформах. Не реализовал до конца."
   ]
  },
  {
   "cell_type": "code",
   "execution_count": 34,
   "metadata": {},
   "outputs": [
    {
     "data": {
      "text/plain": [
       "platform\n",
       "3DS      19830.0\n",
       "PC       27700.0\n",
       "PS3     164710.0\n",
       "PS4     279450.0\n",
       "PSP       1680.0\n",
       "PSV      19180.0\n",
       "Wii      13610.0\n",
       "WiiU     22490.0\n",
       "X360    134480.0\n",
       "XOne    135090.0\n",
       "Name: sum_sales, dtype: float64"
      ]
     },
     "execution_count": 34,
     "metadata": {},
     "output_type": "execute_result"
    }
   ],
   "source": [
    "doubles = game_rating_actual['name'].value_counts().reset_index()\n",
    "doubles = doubles.query('name >=2')\n",
    "doubles = doubles['index'].tolist()\n",
    "doubles_games = game_rating_actual.query('name == @doubles')\n",
    "doubles_games.groupby(['name', 'platform'])['sum_sales'].sum().reset_index().groupby('platform')['sum_sales'].sum()"
   ]
  },
  {
   "cell_type": "markdown",
   "metadata": {},
   "source": [
    "О значимости экстримальных значений в ненормальном распределении."
   ]
  },
  {
   "cell_type": "code",
   "execution_count": 35,
   "metadata": {},
   "outputs": [
    {
     "data": {
      "image/png": "[encoded data removed]",
      "text/plain": [
       "<Figure size 432x288 with 1 Axes>"
      ]
     },
     "metadata": {
      "needs_background": "light"
     },
     "output_type": "display_data"
    },
    {
     "data": {
      "text/plain": [
       "547320.0"
      ]
     },
     "execution_count": 35,
     "metadata": {},
     "output_type": "execute_result"
    }
   ],
   "source": [
    "game_rating_actual.boxplot(column = 'sum_sales')\n",
    "plt.ylim(0,1250)\n",
    "plt.show()\n",
    "#что мы видим по графику - все , что выше 950 т $ это экстремальные значения.\n",
    "\n",
    "top_game_sales = game_rating_actual.query('sum_sales > 1900').groupby('name')['sum_sales'].sum().\\\n",
    "                                        reset_index().sort_values(by = 'sum_sales', ascending=False)\n",
    "#сделал таблицу игр суммарная прибыль, которых составила минимум в два раза больше, чем значение верхнего \"уса\"\n",
    "\n",
    "\n",
    "(len(top_game_sales)/len(doubles))*100 #18,64 % \n",
    "game_rating_actual['sum_sales'].sum()# сумма продаж всех игр за актуальный период 1090020$\n",
    "top_game_sales['sum_sales'].sum()#547320$\n",
    "\n",
    "#88 игр принесли 547320$, а значит, что 18,64 % приносят чуть больше 50 % всей выручки.\n",
    "#Возможно, стоило изучать подробно именно эти игры и платформы, на которых они выпускались.\n",
    "#но на это у меня уже не хватило времени, возможно, чуть позже я попробую переделать часть работы и её выводы."
   ]
  },
  {
   "cell_type": "markdown",
   "metadata": {},
   "source": [
    "Идея с линейкой игр на примере Grand Theft Auto. По таблице видно, что данная игра вседа приносит хорошую прибыль.\n",
    "Идея в том , что игроки любят и ждут продолжения уже понравившийся им игры. На этом можно зарабатывать."
   ]
  },
  {
   "cell_type": "code",
   "execution_count": 36,
   "metadata": {},
   "outputs": [
    {
     "data": {
      "text/html": [
       "<div>\n",
       "<style scoped>\n",
       "    .dataframe tbody tr th:only-of-type {\n",
       "        vertical-align: middle;\n",
       "    }\n",
       "\n",
       "    .dataframe tbody tr th {\n",
       "        vertical-align: top;\n",
       "    }\n",
       "\n",
       "    .dataframe thead th {\n",
       "        text-align: right;\n",
       "    }\n",
       "</style>\n",
       "<table border=\"1\" class=\"dataframe\">\n",
       "  <thead>\n",
       "    <tr style=\"text-align: right;\">\n",
       "      <th></th>\n",
       "      <th>name</th>\n",
       "      <th>platform</th>\n",
       "      <th>year_of_release</th>\n",
       "      <th>genre</th>\n",
       "      <th>na_sales</th>\n",
       "      <th>eu_sales</th>\n",
       "      <th>jp_sales</th>\n",
       "      <th>other_sales</th>\n",
       "      <th>critic_score</th>\n",
       "      <th>user_score</th>\n",
       "      <th>rating</th>\n",
       "      <th>sum_sales</th>\n",
       "      <th>index_game</th>\n",
       "    </tr>\n",
       "  </thead>\n",
       "  <tbody>\n",
       "    <tr>\n",
       "      <td>42</td>\n",
       "      <td>Grand Theft Auto V</td>\n",
       "      <td>PS4</td>\n",
       "      <td>2014</td>\n",
       "      <td>Action</td>\n",
       "      <td>3960.0</td>\n",
       "      <td>6310.0</td>\n",
       "      <td>380.0</td>\n",
       "      <td>1970.0</td>\n",
       "      <td>97.0</td>\n",
       "      <td>8.3</td>\n",
       "      <td>M</td>\n",
       "      <td>12620.0</td>\n",
       "      <td>42</td>\n",
       "    </tr>\n",
       "    <tr>\n",
       "      <td>16</td>\n",
       "      <td>Grand Theft Auto V</td>\n",
       "      <td>PS3</td>\n",
       "      <td>2013</td>\n",
       "      <td>Action</td>\n",
       "      <td>7020.0</td>\n",
       "      <td>9090.0</td>\n",
       "      <td>980.0</td>\n",
       "      <td>3960.0</td>\n",
       "      <td>97.0</td>\n",
       "      <td>8.2</td>\n",
       "      <td>M</td>\n",
       "      <td>21050.0</td>\n",
       "      <td>16</td>\n",
       "    </tr>\n",
       "    <tr>\n",
       "      <td>57</td>\n",
       "      <td>Grand Theft Auto IV</td>\n",
       "      <td>PS3</td>\n",
       "      <td>2008</td>\n",
       "      <td>Action</td>\n",
       "      <td>4760.0</td>\n",
       "      <td>3690.0</td>\n",
       "      <td>440.0</td>\n",
       "      <td>1610.0</td>\n",
       "      <td>98.0</td>\n",
       "      <td>7.5</td>\n",
       "      <td>M</td>\n",
       "      <td>10500.0</td>\n",
       "      <td>57</td>\n",
       "    </tr>\n",
       "    <tr>\n",
       "      <td>2122</td>\n",
       "      <td>Grand Theft Auto: Vice City Stories</td>\n",
       "      <td>PS2</td>\n",
       "      <td>2007</td>\n",
       "      <td>Action</td>\n",
       "      <td>780.0</td>\n",
       "      <td>30.0</td>\n",
       "      <td>30.0</td>\n",
       "      <td>130.0</td>\n",
       "      <td>75.0</td>\n",
       "      <td>7.9</td>\n",
       "      <td>M</td>\n",
       "      <td>970.0</td>\n",
       "      <td>2121</td>\n",
       "    </tr>\n",
       "    <tr>\n",
       "      <td>363</td>\n",
       "      <td>Grand Theft Auto: Liberty City Stories</td>\n",
       "      <td>PS2</td>\n",
       "      <td>2006</td>\n",
       "      <td>Action</td>\n",
       "      <td>1560.0</td>\n",
       "      <td>1400.0</td>\n",
       "      <td>70.0</td>\n",
       "      <td>500.0</td>\n",
       "      <td>78.0</td>\n",
       "      <td>7.8</td>\n",
       "      <td>M</td>\n",
       "      <td>3530.0</td>\n",
       "      <td>363</td>\n",
       "    </tr>\n",
       "    <tr>\n",
       "      <td>17</td>\n",
       "      <td>Grand Theft Auto: San Andreas</td>\n",
       "      <td>PS2</td>\n",
       "      <td>2004</td>\n",
       "      <td>Action</td>\n",
       "      <td>9430.0</td>\n",
       "      <td>400.0</td>\n",
       "      <td>410.0</td>\n",
       "      <td>10570.0</td>\n",
       "      <td>95.0</td>\n",
       "      <td>9.0</td>\n",
       "      <td>M</td>\n",
       "      <td>20810.0</td>\n",
       "      <td>17</td>\n",
       "    </tr>\n",
       "    <tr>\n",
       "      <td>1034</td>\n",
       "      <td>Rockstar Games Double Pack: Grand Theft Auto I...</td>\n",
       "      <td>PS2</td>\n",
       "      <td>2003</td>\n",
       "      <td>Action</td>\n",
       "      <td>850.0</td>\n",
       "      <td>660.0</td>\n",
       "      <td>0.0</td>\n",
       "      <td>220.0</td>\n",
       "      <td>-1.0</td>\n",
       "      <td>-1.0</td>\n",
       "      <td>-1</td>\n",
       "      <td>1730.0</td>\n",
       "      <td>1033</td>\n",
       "    </tr>\n",
       "    <tr>\n",
       "      <td>24</td>\n",
       "      <td>Grand Theft Auto: Vice City</td>\n",
       "      <td>PS2</td>\n",
       "      <td>2002</td>\n",
       "      <td>Action</td>\n",
       "      <td>8410.0</td>\n",
       "      <td>5490.0</td>\n",
       "      <td>470.0</td>\n",
       "      <td>1780.0</td>\n",
       "      <td>95.0</td>\n",
       "      <td>8.7</td>\n",
       "      <td>M</td>\n",
       "      <td>16150.0</td>\n",
       "      <td>24</td>\n",
       "    </tr>\n",
       "    <tr>\n",
       "      <td>38</td>\n",
       "      <td>Grand Theft Auto III</td>\n",
       "      <td>PS2</td>\n",
       "      <td>2001</td>\n",
       "      <td>Action</td>\n",
       "      <td>6990.0</td>\n",
       "      <td>4510.0</td>\n",
       "      <td>300.0</td>\n",
       "      <td>1300.0</td>\n",
       "      <td>97.0</td>\n",
       "      <td>8.5</td>\n",
       "      <td>M</td>\n",
       "      <td>13100.0</td>\n",
       "      <td>38</td>\n",
       "    </tr>\n",
       "    <tr>\n",
       "      <td>389</td>\n",
       "      <td>Grand Theft Auto 2</td>\n",
       "      <td>PS</td>\n",
       "      <td>1998</td>\n",
       "      <td>Action</td>\n",
       "      <td>1130.0</td>\n",
       "      <td>2070.0</td>\n",
       "      <td>0.0</td>\n",
       "      <td>220.0</td>\n",
       "      <td>70.0</td>\n",
       "      <td>8.0</td>\n",
       "      <td>T</td>\n",
       "      <td>3420.0</td>\n",
       "      <td>389</td>\n",
       "    </tr>\n",
       "    <tr>\n",
       "      <td>10374</td>\n",
       "      <td>Grand Theft Auto: Mission Pack #1, London 1969</td>\n",
       "      <td>PS</td>\n",
       "      <td>1998</td>\n",
       "      <td>Adventure</td>\n",
       "      <td>60.0</td>\n",
       "      <td>40.0</td>\n",
       "      <td>0.0</td>\n",
       "      <td>10.0</td>\n",
       "      <td>-1.0</td>\n",
       "      <td>-1.0</td>\n",
       "      <td>-1</td>\n",
       "      <td>110.0</td>\n",
       "      <td>10373</td>\n",
       "    </tr>\n",
       "    <tr>\n",
       "      <td>684</td>\n",
       "      <td>Grand Theft Auto</td>\n",
       "      <td>PS</td>\n",
       "      <td>1997</td>\n",
       "      <td>Action</td>\n",
       "      <td>790.0</td>\n",
       "      <td>1350.0</td>\n",
       "      <td>40.0</td>\n",
       "      <td>140.0</td>\n",
       "      <td>-1.0</td>\n",
       "      <td>-1.0</td>\n",
       "      <td>-1</td>\n",
       "      <td>2320.0</td>\n",
       "      <td>683</td>\n",
       "    </tr>\n",
       "  </tbody>\n",
       "</table>\n",
       "</div>"
      ],
      "text/plain": [
       "                                                    name platform  \\\n",
       "42                                    Grand Theft Auto V      PS4   \n",
       "16                                    Grand Theft Auto V      PS3   \n",
       "57                                   Grand Theft Auto IV      PS3   \n",
       "2122                 Grand Theft Auto: Vice City Stories      PS2   \n",
       "363               Grand Theft Auto: Liberty City Stories      PS2   \n",
       "17                         Grand Theft Auto: San Andreas      PS2   \n",
       "1034   Rockstar Games Double Pack: Grand Theft Auto I...      PS2   \n",
       "24                           Grand Theft Auto: Vice City      PS2   \n",
       "38                                  Grand Theft Auto III      PS2   \n",
       "389                                   Grand Theft Auto 2       PS   \n",
       "10374     Grand Theft Auto: Mission Pack #1, London 1969       PS   \n",
       "684                                     Grand Theft Auto       PS   \n",
       "\n",
       "       year_of_release      genre  na_sales  eu_sales  jp_sales  other_sales  \\\n",
       "42                2014     Action    3960.0    6310.0     380.0       1970.0   \n",
       "16                2013     Action    7020.0    9090.0     980.0       3960.0   \n",
       "57                2008     Action    4760.0    3690.0     440.0       1610.0   \n",
       "2122              2007     Action     780.0      30.0      30.0        130.0   \n",
       "363               2006     Action    1560.0    1400.0      70.0        500.0   \n",
       "17                2004     Action    9430.0     400.0     410.0      10570.0   \n",
       "1034              2003     Action     850.0     660.0       0.0        220.0   \n",
       "24                2002     Action    8410.0    5490.0     470.0       1780.0   \n",
       "38                2001     Action    6990.0    4510.0     300.0       1300.0   \n",
       "389               1998     Action    1130.0    2070.0       0.0        220.0   \n",
       "10374             1998  Adventure      60.0      40.0       0.0         10.0   \n",
       "684               1997     Action     790.0    1350.0      40.0        140.0   \n",
       "\n",
       "       critic_score  user_score rating  sum_sales  index_game  \n",
       "42             97.0         8.3      M    12620.0          42  \n",
       "16             97.0         8.2      M    21050.0          16  \n",
       "57             98.0         7.5      M    10500.0          57  \n",
       "2122           75.0         7.9      M      970.0        2121  \n",
       "363            78.0         7.8      M     3530.0         363  \n",
       "17             95.0         9.0      M    20810.0          17  \n",
       "1034           -1.0        -1.0     -1     1730.0        1033  \n",
       "24             95.0         8.7      M    16150.0          24  \n",
       "38             97.0         8.5      M    13100.0          38  \n",
       "389            70.0         8.0      T     3420.0         389  \n",
       "10374          -1.0        -1.0     -1      110.0       10373  \n",
       "684            -1.0        -1.0     -1     2320.0         683  "
      ]
     },
     "execution_count": 36,
     "metadata": {},
     "output_type": "execute_result"
    }
   ],
   "source": [
    "game_rating[game_rating['name'].str.contains('Grand Theft Auto')].sort_values(by='year_of_release', ascending=False)\\\n",
    "                                .query('platform == \"PS4\" or platform == \"PS3\" or platform == \"PS2\" or platform == \"PS\"')"
   ]
  },
  {
   "cell_type": "markdown",
   "metadata": {},
   "source": [
    "# Общий вывод"
   ]
  },
  {
   "cell_type": "markdown",
   "metadata": {},
   "source": [
    "Проанализировав данные из предоставленной выборки, я пришел к следующим выводам:\n",
    "\n",
    "\n",
    "Для успешной работы нашего магазина и для наиболее рентабельного распределения рекламных бюджетов для каждой игры, следует обращать внимания на то:\n",
    "\n",
    "1 Как долго существует платформа, на которой выпускается игра. Как показал анализ, среднее время существования платформы - 11-12 лет. И к концу жизненого цикла платформы, продажи на ней падают. Своего пика на платформе продажи достигают к 4 -6 году от появления. К тому времени, как продажи начинают падать, производители стараются выпускать новые платформы.  \n",
    "В первый год продажи на новых платвормах сравнительно невелики. Но есть и исключения, например 3DS и Wii от Nintendo. Их популярность связана с инновационными решениями. Появление беспроводного контроллера, реагирующего на движение игрока в Wii и 3d дисплей в 3DS. Стоит обращать внимание на инновации в производстве платформ.\n",
    "Рост по продажам на данный момент показывает две платформы - 'PS4', 'XOne'. Третий флагман от Nintendo WiiU  падает по продажам, он вышел чуть раньше конкурентов.\n",
    "Прочные лидеры по суммам продаж -  PS4, PS3, XOne, 3DS, X360.\n",
    "Обязательно нужно помнить о национальной составляющей платформ. Для японцев разборки негров из гетто так же малоинтересны, как американцам и европейцам разборки якудз с обильным пением в караоке. Но грани по некоторым играм размываются. Например Final Fantasy X.\n",
    "\n",
    "2 Влияние отзывов на продажи игры\n",
    "Отзывы критиков влияют на продажи, но говорить о наличии высокой связи между отзывами и продажами не стоит.\n",
    "Отзывы пользователей не влияют на продажи. Есть игры с отличными отзывами, но с уровнем продаж, как у игр почти с нулевыми отзывами. Резюмируя - нашему магазину стоит обращать внимание на отзывы критиков, но не увлекаясь. \n",
    "\n",
    "3 Жанры\n",
    "Есть топовые жанры, продажи которых превышают все другие -  Action, Shooter, Sports, Role-Playing. Но поскольку мы продаем игры по всему миру ( я надеюсь, у нас есть сайт на японском) нужно обратить внимание, что топ жанров в Японии отличается от остальных регионов.\n",
    "\n",
    "4 Рейтиг ESRB \n",
    "В Европе и Америки больше всего игр покупается с рейтингом М(для взрослых), в то время , как в Японии это Т(Подросткам). \n",
    "Нужно учитывать это и ориентироваться при выборе игры для запуска рекламы.\n",
    "\n",
    "\n",
    "Хотелось добавить ещё несколько выводов, возникших при работе с данными:\n",
    "\n",
    "Магазину следует учесть, какие в прошлом были хиты продаж:\n",
    "88 игр принесли 547320$, а значит, что 18,64 % игр  приносят чуть больше 50 % всей выручки.\n",
    "Возможно, стоило изучать подробно именно эти игры и платформы, на которых они выпускались.\n",
    "но на это у меня уже не хватило времени, возможно чуть позже я попробую переделать часть работы и её выводы.\n",
    "Но из этого уже можно сделать выводы, что при выходе продолжения игры, которая была ранее популярна, стоит на него обратить внимание.\n",
    "Чего только стоила серия FIFA,GTA или Mario)\n",
    "\n",
    "Следить за инновациями в области платформ. Яркий пример Wii , с своей Wii Sports.\n",
    "\n",
    "И тут мы приходим к основной идеи по поводу прибыльности игр и ставки на них. Сегмент производства игр относится к масштабируемым. И определить с большой вероятностью популярность выходящей игры сложно. Какая игра завтра станет хитом(при условии, что это не продолжение популярной линейки)? Это не известно. Мы можем сказать только, что у какой-то игры шансов стать хитом мало."
   ]
  }
 ],
 "metadata": {
  "kernelspec": {
   "display_name": "Python 3",
   "language": "python",
   "name": "python3"
  },
  "language_info": {
   "codemirror_mode": {
    "name": "ipython",
    "version": 3
   },
   "file_extension": ".py",
   "mimetype": "text/x-python",
   "name": "python",
   "nbconvert_exporter": "python",
   "pygments_lexer": "ipython3",
   "version": "3.7.6"
  }
 },
 "nbformat": 4,
 "nbformat_minor": 2
}
